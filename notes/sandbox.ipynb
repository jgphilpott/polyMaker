{
 "cells": [
  {
   "cell_type": "markdown",
   "id": "8404bf9f-6b9e-457f-b433-b34dd2090edc",
   "metadata": {
    "tags": []
   },
   "source": [
    "# Installs"
   ]
  },
  {
   "cell_type": "code",
   "execution_count": null,
   "id": "3a235051-be81-46cb-8b30-8e1f1def04b7",
   "metadata": {},
   "outputs": [],
   "source": [
    "pip install pymongo==3.11.0"
   ]
  },
  {
   "cell_type": "markdown",
   "id": "310b5a30-5e88-4e94-b410-df2dc6237ad9",
   "metadata": {},
   "source": [
    "# Imports"
   ]
  },
  {
   "cell_type": "code",
   "execution_count": null,
   "id": "ec4b1c05-4994-459a-898e-602be147be5f",
   "metadata": {},
   "outputs": [],
   "source": [
    "import os\n",
    "import sys\n",
    "import csv\n",
    "import json\n",
    "import pymongo"
   ]
  },
  {
   "cell_type": "markdown",
   "id": "a63b2e2d-873f-4ba3-88b7-3d96215a96a2",
   "metadata": {},
   "source": [
    "# Database Link"
   ]
  },
  {
   "cell_type": "code",
   "execution_count": null,
   "id": "db08a704-44a0-4498-868d-238c9b513da3",
   "metadata": {},
   "outputs": [],
   "source": [
    "client = pymongo.MongoClient(\"database\", 27017)\n",
    "database = client.polymorph\n",
    "database.list_collection_names()\n",
    "# collection = database[\"collection_name\"]"
   ]
  },
  {
   "cell_type": "markdown",
   "id": "bb113cb7-4514-415d-a7b9-34c0bf9d1bad",
   "metadata": {},
   "source": [
    "# Basic Functions"
   ]
  },
  {
   "cell_type": "code",
   "execution_count": null,
   "id": "5e9ef30c-49b2-4556-b66b-b693d36e6e32",
   "metadata": {},
   "outputs": [],
   "source": [
    "def byte_size(string):\n",
    "\n",
    "    return len(str(string).encode(\"utf-8\"))"
   ]
  }
 ],
 "metadata": {
  "kernelspec": {
   "display_name": "Python 3",
   "language": "python",
   "name": "python3"
  },
  "language_info": {
   "codemirror_mode": {
    "name": "ipython",
    "version": 3
   },
   "file_extension": ".py",
   "mimetype": "text/x-python",
   "name": "python",
   "nbconvert_exporter": "python",
   "pygments_lexer": "ipython3",
   "version": "3.10.8"
  },
  "vscode": {
   "interpreter": {
    "hash": "b0fa6594d8f4cbf19f97940f81e996739fb7646882a419484c72d19e05852a7e"
   }
  }
 },
 "nbformat": 4,
 "nbformat_minor": 5
}
