{
 "cells": [
  {
   "cell_type": "markdown",
   "id": "042abb84-2c27-4a36-ba50-1c562be8e462",
   "metadata": {},
   "source": [
    "# Installs"
   ]
  },
  {
   "cell_type": "code",
   "execution_count": null,
   "id": "51c98808-b46d-4e74-870b-b2aa437f71ea",
   "metadata": {},
   "outputs": [],
   "source": [
    "pip install pymongo==3.11.0"
   ]
  },
  {
   "cell_type": "markdown",
   "id": "c82a1499-43bc-4732-a371-c6d9db545cea",
   "metadata": {},
   "source": [
    "# Imports"
   ]
  },
  {
   "cell_type": "code",
   "execution_count": null,
   "id": "0150f195-aa11-43d8-9bcc-944b2ec712be",
   "metadata": {},
   "outputs": [],
   "source": [
    "from pprint import pprint as pp\n",
    "from pymongo import MongoClient"
   ]
  },
  {
   "cell_type": "markdown",
   "id": "c83202ee-7cc9-44c1-90d2-a1249a0c2970",
   "metadata": {},
   "source": [
    "# Database Link"
   ]
  },
  {
   "cell_type": "code",
   "execution_count": null,
   "id": "a96115de-5c45-49db-8845-4d33e18e2069",
   "metadata": {},
   "outputs": [],
   "source": [
    "client = MongoClient(\"database\", 27017)\n",
    "database = client.polymorph\n",
    "collection = database[\"models\"]"
   ]
  },
  {
   "cell_type": "markdown",
   "id": "42a4de39-9563-4dd0-afe8-b72b1488146f",
   "metadata": {},
   "source": [
    "# Model"
   ]
  },
  {
   "cell_type": "code",
   "execution_count": null,
   "id": "6ae876a3-39e1-4512-a23d-c107f2fdd4f8",
   "metadata": {},
   "outputs": [],
   "source": [
    "class Model():\n",
    "\n",
    "    def __init__(self, model):\n",
    "\n",
    "        pass"
   ]
  },
  {
   "cell_type": "markdown",
   "id": "fd90709e-88be-48c6-b6e6-f18ccd9d05a2",
   "metadata": {},
   "source": [
    "# Basic Functions"
   ]
  },
  {
   "cell_type": "code",
   "execution_count": null,
   "id": "ca4a6f23-d76e-4cd5-9d6e-c74910cb6652",
   "metadata": {},
   "outputs": [],
   "source": [
    "def add_model(model):\n",
    "\n",
    "    return str(collection.insert_one(model).inserted_id)\n",
    "\n",
    "def add_models(models):\n",
    "\n",
    "    return str(collection.insert_many(models).inserted_ids)\n",
    "\n",
    "def find_model(query={}, filter={\"_id\": 0}):\n",
    "\n",
    "    return dict(collection.find_one(query, filter))\n",
    "\n",
    "def find_models(query={}, filter={\"_id\": 0}, sort=[(\"id\", 1)], limit=0):\n",
    "\n",
    "    collection.create_index(sort)\n",
    "\n",
    "    return list(collection.find(query, filter).sort(sort).limit(limit))\n",
    "\n",
    "def update_model(model):\n",
    "\n",
    "    return collection.update_one({\"id\": model[\"id\"]}, {\"$set\": model})\n",
    "\n",
    "def update_models(models):\n",
    "\n",
    "    for model in models:\n",
    "\n",
    "        model = update_model(model)\n",
    "\n",
    "    return models\n",
    "\n",
    "def delete_model(model):\n",
    "\n",
    "    return collection.delete_one({\"id\": model[\"id\"]})\n",
    "\n",
    "def delete_models(models):\n",
    "\n",
    "    for model in models:\n",
    "\n",
    "        model = delete_model(model)\n",
    "\n",
    "    return models"
   ]
  }
 ],
 "metadata": {
  "kernelspec": {
   "display_name": "Python 3 (ipykernel)",
   "language": "python",
   "name": "python3"
  },
  "language_info": {
   "codemirror_mode": {
    "name": "ipython",
    "version": 3
   },
   "file_extension": ".py",
   "mimetype": "text/x-python",
   "name": "python",
   "nbconvert_exporter": "python",
   "pygments_lexer": "ipython3",
   "version": "3.9.7"
  }
 },
 "nbformat": 4,
 "nbformat_minor": 5
}
