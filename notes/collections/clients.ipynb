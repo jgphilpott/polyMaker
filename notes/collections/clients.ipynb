{
 "cells": [
  {
   "cell_type": "markdown",
   "id": "042abb84-2c27-4a36-ba50-1c562be8e462",
   "metadata": {},
   "source": [
    "# Installs"
   ]
  },
  {
   "cell_type": "code",
   "execution_count": null,
   "id": "51c98808-b46d-4e74-870b-b2aa437f71ea",
   "metadata": {},
   "outputs": [],
   "source": [
    "pip install pymongo==3.11.0"
   ]
  },
  {
   "cell_type": "markdown",
   "id": "c82a1499-43bc-4732-a371-c6d9db545cea",
   "metadata": {},
   "source": [
    "# Imports"
   ]
  },
  {
   "cell_type": "code",
   "execution_count": null,
   "id": "0150f195-aa11-43d8-9bcc-944b2ec712be",
   "metadata": {},
   "outputs": [],
   "source": [
    "from os import urandom\n",
    "from pprint import pprint as pp\n",
    "from pymongo import MongoClient"
   ]
  },
  {
   "cell_type": "markdown",
   "id": "c83202ee-7cc9-44c1-90d2-a1249a0c2970",
   "metadata": {},
   "source": [
    "# Database Link"
   ]
  },
  {
   "cell_type": "code",
   "execution_count": null,
   "id": "a96115de-5c45-49db-8845-4d33e18e2069",
   "metadata": {},
   "outputs": [],
   "source": [
    "client = MongoClient(\"database\", 27017)\n",
    "database = client.polymorph\n",
    "collection = database[\"clients\"]"
   ]
  },
  {
   "cell_type": "markdown",
   "id": "42a4de39-9563-4dd0-afe8-b72b1488146f",
   "metadata": {},
   "source": [
    "# Model"
   ]
  },
  {
   "cell_type": "code",
   "execution_count": null,
   "id": "6ae876a3-39e1-4512-a23d-c107f2fdd4f8",
   "metadata": {},
   "outputs": [],
   "source": [
    "class Client():\n",
    "\n",
    "    def __init__(self, client):\n",
    "\n",
    "        self.email = client[\"email\"]\n",
    "        self.password = client[\"password\"]\n",
    "\n",
    "        self.id = client[\"id\"] if \"id\" in client else None\n",
    "\n",
    "        if \"settings\" in client:\n",
    "\n",
    "            self.settings = client[\"settings\"]\n",
    "\n",
    "        else:\n",
    "\n",
    "            self.settings = {\n",
    "                                \"general\": {\n",
    "                                    \"language\": \"en-US\",\n",
    "                                    \"scale\": \"metric\",\n",
    "                                    \"unit\": {\"imperial\": \"inch\", \"metric\": \"millimeter\"},\n",
    "                                    \"snap\": False,\n",
    "                                    \"size\": 100,\n",
    "                                    \"grid\": 1\n",
    "                                },\n",
    "                                \"ui\": {\n",
    "                                    \"title\": \"POLYMORPH\",\n",
    "                                    \"navbar\": True,\n",
    "                                    \"forkme\": False,\n",
    "                                    \"metabox\": True,\n",
    "                                    \"help\": False,\n",
    "                                    \"shortcuts\": [\"box\", \"cylinder\", \"sphere\"]\n",
    "                                },\n",
    "                                \"tooltips\": {\n",
    "                                    \"boundingBox\": True,\n",
    "                                    \"guidelines\": True,\n",
    "                                    \"measurements\": False,\n",
    "                                    \"rotation\": True\n",
    "                                },\n",
    "                                \"panels\": {\n",
    "                                    \"camera\": True,\n",
    "                                    \"lights\": False,\n",
    "                                    \"menu\": False,\n",
    "                                    \"meshes\": True,\n",
    "                                    \"settings\": False,\n",
    "                                    \"shapes\": False,\n",
    "                                    \"shortcuts\": True\n",
    "                                },\n",
    "                                \"axes\": {\n",
    "                                    \"axesCaps\": True,\n",
    "                                    \"xAxis\": True,\n",
    "                                    \"yAxis\": True,\n",
    "                                    \"zAxis\": True,\n",
    "                                    \"xyPlane\": False,\n",
    "                                    \"xzPlane\": False,\n",
    "                                    \"yzPlane\": False,\n",
    "                                    \"xyPlaneStep\": 10,\n",
    "                                    \"xzPlaneStep\": 10,\n",
    "                                    \"yzPlaneStep\": 10\n",
    "                                },\n",
    "                                \"camera\": {\n",
    "                                    \"position\": {\"x\": 135, \"y\": 135, \"z\": 55},\n",
    "                                    \"target\": {\"x\": 0, \"y\": 0, \"z\": 0},\n",
    "                                    \"open\": \"speed\"\n",
    "                                },\n",
    "                                \"controls\": {\n",
    "                                    \"dragSpeed\": 50,\n",
    "                                    \"flySpeed\": 50,\n",
    "                                    \"zoomSpeed\": 50,\n",
    "                                    \"zoomMax\": 500,\n",
    "                                    \"zoomMin\": 1\n",
    "                                }\n",
    "                            }\n",
    "\n",
    "    def refresh_id(self):\n",
    "\n",
    "        self.id = urandom(42).hex()\n",
    "\n",
    "        return self\n",
    "\n",
    "    def update_settings(self, category, setting, value):\n",
    "\n",
    "        self.settings[category][setting] = value\n",
    "\n",
    "        return self"
   ]
  },
  {
   "cell_type": "markdown",
   "id": "fd90709e-88be-48c6-b6e6-f18ccd9d05a2",
   "metadata": {},
   "source": [
    "# Basic Functions"
   ]
  },
  {
   "cell_type": "code",
   "execution_count": null,
   "id": "ca4a6f23-d76e-4cd5-9d6e-c74910cb6652",
   "metadata": {},
   "outputs": [],
   "source": [
    "def new_client(client):\n",
    "\n",
    "    return str(collection.insert_one(client).inserted_id)\n",
    "\n",
    "def new_clients(clients):\n",
    "\n",
    "    return str(collection.insert_many(clients).inserted_ids)\n",
    "\n",
    "def find_client(query={}, filter={\"_id\": 0}):\n",
    "\n",
    "    return dict(collection.find_one(query, filter))\n",
    "\n",
    "def find_clients(query={}, filter={\"_id\": 0}, sort=[(\"email\", 1)], limit=0):\n",
    "\n",
    "    collection.create_index(sort)\n",
    "\n",
    "    return list(collection.find(query, filter).sort(sort).limit(limit))\n",
    "\n",
    "def update_client(client):\n",
    "\n",
    "    return collection.update_one({\"email\": client[\"email\"]}, {\"$set\": client})\n",
    "\n",
    "def update_clients(clients):\n",
    "\n",
    "    for client in clients:\n",
    "\n",
    "        update_client(client)\n",
    "\n",
    "def delete_client(client):\n",
    "\n",
    "    return collection.delete_one({\"email\": client[\"email\"]})\n",
    "\n",
    "def delete_clients(clients):\n",
    "\n",
    "    for client in clients:\n",
    "\n",
    "        delete_client(client)\n",
    "\n",
    "def valid_client(id):\n",
    "\n",
    "    try:\n",
    "\n",
    "        return find_client({\"id\": id}, {\"_id\": 0, \"id\": 0, \"password\": 0})\n",
    "\n",
    "    except:\n",
    "\n",
    "        return None"
   ]
  }
 ],
 "metadata": {
  "kernelspec": {
   "display_name": "Python 3 (ipykernel)",
   "language": "python",
   "name": "python3"
  },
  "language_info": {
   "codemirror_mode": {
    "name": "ipython",
    "version": 3
   },
   "file_extension": ".py",
   "mimetype": "text/x-python",
   "name": "python",
   "nbconvert_exporter": "python",
   "pygments_lexer": "ipython3",
   "version": "3.9.7"
  }
 },
 "nbformat": 4,
 "nbformat_minor": 5
}