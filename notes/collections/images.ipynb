{
 "cells": [
  {
   "cell_type": "markdown",
   "id": "042abb84-2c27-4a36-ba50-1c562be8e462",
   "metadata": {},
   "source": [
    "# Installs"
   ]
  },
  {
   "cell_type": "code",
   "execution_count": null,
   "id": "51c98808-b46d-4e74-870b-b2aa437f71ea",
   "metadata": {},
   "outputs": [],
   "source": [
    "pip install pymongo==3.11.0"
   ]
  },
  {
   "cell_type": "markdown",
   "id": "c82a1499-43bc-4732-a371-c6d9db545cea",
   "metadata": {},
   "source": [
    "# Imports"
   ]
  },
  {
   "cell_type": "code",
   "execution_count": null,
   "id": "0150f195-aa11-43d8-9bcc-944b2ec712be",
   "metadata": {},
   "outputs": [],
   "source": [
    "from pprint import pprint as pp\n",
    "from pymongo import MongoClient"
   ]
  },
  {
   "cell_type": "markdown",
   "id": "c83202ee-7cc9-44c1-90d2-a1249a0c2970",
   "metadata": {},
   "source": [
    "# Database Link"
   ]
  },
  {
   "cell_type": "code",
   "execution_count": null,
   "id": "a96115de-5c45-49db-8845-4d33e18e2069",
   "metadata": {},
   "outputs": [],
   "source": [
    "client = MongoClient(\"database\", 27017)\n",
    "database = client.polymorph\n",
    "collection = database[\"images\"]"
   ]
  },
  {
   "cell_type": "markdown",
   "id": "42a4de39-9563-4dd0-afe8-b72b1488146f",
   "metadata": {},
   "source": [
    "# Model"
   ]
  },
  {
   "cell_type": "code",
   "execution_count": null,
   "id": "6ae876a3-39e1-4512-a23d-c107f2fdd4f8",
   "metadata": {},
   "outputs": [],
   "source": [
    "class Image():\n",
    "\n",
    "    def __init__(self, image):\n",
    "\n",
    "        pass"
   ]
  },
  {
   "cell_type": "markdown",
   "id": "fd90709e-88be-48c6-b6e6-f18ccd9d05a2",
   "metadata": {},
   "source": [
    "# Basic Functions"
   ]
  },
  {
   "cell_type": "code",
   "execution_count": null,
   "id": "ca4a6f23-d76e-4cd5-9d6e-c74910cb6652",
   "metadata": {},
   "outputs": [],
   "source": [
    "def add_image(image):\n",
    "\n",
    "    return str(collection.insert_one(image).inserted_id)\n",
    "\n",
    "def add_images(images):\n",
    "\n",
    "    return str(collection.insert_many(images).inserted_ids)\n",
    "\n",
    "def find_image(query={}, filter={\"_id\": 0}):\n",
    "\n",
    "    return dict(collection.find_one(query, filter))\n",
    "\n",
    "def find_images(query={}, filter={\"_id\": 0}, sort=[(\"id\", 1)], limit=0):\n",
    "\n",
    "    collection.create_index(sort)\n",
    "\n",
    "    return list(collection.find(query, filter).sort(sort).limit(limit))\n",
    "\n",
    "def update_image(image):\n",
    "\n",
    "    return collection.update_one({\"id\": image[\"id\"]}, {\"$set\": image})\n",
    "\n",
    "def update_images(images):\n",
    "\n",
    "    for image in images:\n",
    "\n",
    "        image = update_image(image)\n",
    "\n",
    "    return images\n",
    "\n",
    "def delete_image(image):\n",
    "\n",
    "    return collection.delete_one({\"id\": image[\"id\"]})\n",
    "\n",
    "def delete_images(images):\n",
    "\n",
    "    for image in images:\n",
    "\n",
    "        image = delete_image(image)\n",
    "\n",
    "    return images"
   ]
  }
 ],
 "metadata": {
  "kernelspec": {
   "display_name": "Python 3",
   "language": "python",
   "name": "python3"
  },
  "language_info": {
   "codemirror_mode": {
    "name": "ipython",
    "version": 3
   },
   "file_extension": ".py",
   "mimetype": "text/x-python",
   "name": "python",
   "nbconvert_exporter": "python",
   "pygments_lexer": "ipython3",
   "version": "3.11.0"
  },
  "vscode": {
   "interpreter": {
    "hash": "5c7b89af1651d0b8571dde13640ecdccf7d5a6204171d6ab33e7c296e100e08a"
   }
  }
 },
 "nbformat": 4,
 "nbformat_minor": 5
}
